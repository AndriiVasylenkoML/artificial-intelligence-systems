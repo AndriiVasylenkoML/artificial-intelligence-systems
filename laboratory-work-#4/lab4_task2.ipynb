{
  "nbformat": 4,
  "nbformat_minor": 0,
  "metadata": {
    "colab": {
      "provenance": []
    },
    "kernelspec": {
      "name": "python3",
      "display_name": "Python 3"
    },
    "language_info": {
      "name": "python"
    }
  },
  "cells": [
    {
      "cell_type": "markdown",
      "source": [
        "# Import libraries and create samples."
      ],
      "metadata": {
        "id": "W2dPOY5RS1Nc"
      }
    },
    {
      "cell_type": "code",
      "execution_count": null,
      "metadata": {
        "id": "P7AmKGILSuDS"
      },
      "outputs": [],
      "source": [
        "import tensorflow as tf\n",
        "from tensorflow import keras\n",
        "from tensorflow.keras import layers\n",
        "import numpy as np\n",
        "import matplotlib.pyplot as plt\n",
        "\n",
        "# We determine the possible directions of movement\n",
        "directions = {\n",
        "    0: 'Left and up',\n",
        "    1: 'Above',\n",
        "    2: 'To the left at a constant height',\n",
        "    3: 'To the left at a constant height',\n",
        "    4: 'Left and down',\n",
        "    5: 'Below',\n",
        "    6: 'Right and up',\n",
        "    7: 'To the right at a constant height',\n",
        "    8: 'Right and down'\n",
        "}\n",
        "\n",
        "# Let's create training and test samples\n",
        "# Suppose we have some inputs X_train and X_test that characterize the state of the aircraft\n",
        "# In this example, we use random data for illustration\n",
        "X_train = np.random.rand(1000, 10)  # 1000 examples, each with 10 features\n",
        "y_train = np.random.randint(0, 9, 1000)  # 1000 target values ​​(directions of movement)\n",
        "\n",
        "X_test = np.random.rand(200, 10)  # 200 examples for testing\n",
        "y_test = np.random.randint(0, 9, 200)  # 200 target values ​​for testing\n",
        "\n",
        "# We convert target values ​​into one-hot encoding\n",
        "y_train = keras.utils.to_categorical(y_train, num_classes=9)\n",
        "y_test = keras.utils.to_categorical(y_test, num_classes=9)\n"
      ]
    },
    {
      "cell_type": "markdown",
      "source": [
        "Construction of a neural network model, its training and testing. Let's start with a simple architecture with one hidden layer."
      ],
      "metadata": {
        "id": "viYNirjKTBVC"
      }
    },
    {
      "cell_type": "code",
      "source": [
        "def create_model(hidden_layers, hidden_units):\n",
        "    model = keras.Sequential()\n",
        "    model.add(layers.Input(shape=(10,)))  # Input layer\n",
        "    for _ in range(hidden_layers):\n",
        "        model.add(layers.Dense(hidden_units, activation='relu'))\n",
        "    model.add(layers.Dense(9, activation='softmax'))  # The starting layer for 9th grade\n",
        "\n",
        "    model.compile(optimizer='adam',\n",
        "                  loss='categorical_crossentropy',\n",
        "                  metrics=['accuracy'])\n",
        "    return model\n",
        "\n",
        "# Let's create a model with 1 hidden layer and 32 neurons\n",
        "model = create_model(hidden_layers=1, hidden_units=32)\n",
        "model.summary()\n",
        "\n",
        "# We train the model\n",
        "history = model.fit(X_train, y_train, epochs=20, validation_data=(X_test, y_test))\n",
        "\n",
        "# Assessment of model performance\n",
        "test_loss, test_acc = model.evaluate(X_test, y_test)\n",
        "print(f\"Test accuracy: {test_acc}\")\n",
        "\n",
        "# Visualization of learning results\n",
        "plt.plot(history.history['accuracy'], label='accuracy')\n",
        "plt.plot(history.history['val_accuracy'], label = 'val_accuracy')\n",
        "plt.xlabel('Epoch')\n",
        "plt.ylabel('Accuracy')\n",
        "plt.ylim([0, 1])\n",
        "plt.legend(loc='lower right')\n",
        "plt.show()"
      ],
      "metadata": {
        "colab": {
          "base_uri": "https://localhost:8080/",
          "height": 1000
        },
        "id": "Aw9_FcHxTCcV",
        "outputId": "c84a06c5-0c59-4617-9176-132f9e24f5ed"
      },
      "execution_count": null,
      "outputs": [
        {
          "output_type": "stream",
          "name": "stdout",
          "text": [
            "Model: \"sequential\"\n",
            "_________________________________________________________________\n",
            " Layer (type)                Output Shape              Param #   \n",
            "=================================================================\n",
            " dense (Dense)               (None, 32)                352       \n",
            "                                                                 \n",
            " dense_1 (Dense)             (None, 9)                 297       \n",
            "                                                                 \n",
            "=================================================================\n",
            "Total params: 649 (2.54 KB)\n",
            "Trainable params: 649 (2.54 KB)\n",
            "Non-trainable params: 0 (0.00 Byte)\n",
            "_________________________________________________________________\n",
            "Epoch 1/20\n",
            "32/32 [==============================] - 2s 20ms/step - loss: 2.2247 - accuracy: 0.1190 - val_loss: 2.2218 - val_accuracy: 0.1100\n",
            "Epoch 2/20\n",
            "32/32 [==============================] - 0s 7ms/step - loss: 2.2039 - accuracy: 0.1220 - val_loss: 2.2200 - val_accuracy: 0.1050\n",
            "Epoch 3/20\n",
            "32/32 [==============================] - 0s 9ms/step - loss: 2.1973 - accuracy: 0.1240 - val_loss: 2.2193 - val_accuracy: 0.1150\n",
            "Epoch 4/20\n",
            "32/32 [==============================] - 0s 5ms/step - loss: 2.1939 - accuracy: 0.1280 - val_loss: 2.2200 - val_accuracy: 0.1000\n",
            "Epoch 5/20\n",
            "32/32 [==============================] - 0s 4ms/step - loss: 2.1914 - accuracy: 0.1250 - val_loss: 2.2213 - val_accuracy: 0.1000\n",
            "Epoch 6/20\n",
            "32/32 [==============================] - 0s 4ms/step - loss: 2.1888 - accuracy: 0.1350 - val_loss: 2.2207 - val_accuracy: 0.0900\n",
            "Epoch 7/20\n",
            "32/32 [==============================] - 0s 5ms/step - loss: 2.1867 - accuracy: 0.1260 - val_loss: 2.2221 - val_accuracy: 0.0900\n",
            "Epoch 8/20\n",
            "32/32 [==============================] - 0s 8ms/step - loss: 2.1843 - accuracy: 0.1300 - val_loss: 2.2211 - val_accuracy: 0.0950\n",
            "Epoch 9/20\n",
            "32/32 [==============================] - 0s 5ms/step - loss: 2.1825 - accuracy: 0.1410 - val_loss: 2.2217 - val_accuracy: 0.1050\n",
            "Epoch 10/20\n",
            "32/32 [==============================] - 0s 6ms/step - loss: 2.1798 - accuracy: 0.1410 - val_loss: 2.2254 - val_accuracy: 0.0850\n",
            "Epoch 11/20\n",
            "32/32 [==============================] - 0s 6ms/step - loss: 2.1770 - accuracy: 0.1420 - val_loss: 2.2226 - val_accuracy: 0.0950\n",
            "Epoch 12/20\n",
            "32/32 [==============================] - 0s 10ms/step - loss: 2.1749 - accuracy: 0.1430 - val_loss: 2.2267 - val_accuracy: 0.0850\n",
            "Epoch 13/20\n",
            "32/32 [==============================] - 0s 6ms/step - loss: 2.1743 - accuracy: 0.1480 - val_loss: 2.2281 - val_accuracy: 0.1000\n",
            "Epoch 14/20\n",
            "32/32 [==============================] - 0s 8ms/step - loss: 2.1709 - accuracy: 0.1530 - val_loss: 2.2300 - val_accuracy: 0.0850\n",
            "Epoch 15/20\n",
            "32/32 [==============================] - 0s 4ms/step - loss: 2.1687 - accuracy: 0.1560 - val_loss: 2.2315 - val_accuracy: 0.0900\n",
            "Epoch 16/20\n",
            "32/32 [==============================] - 0s 3ms/step - loss: 2.1663 - accuracy: 0.1560 - val_loss: 2.2333 - val_accuracy: 0.0850\n",
            "Epoch 17/20\n",
            "32/32 [==============================] - 0s 3ms/step - loss: 2.1646 - accuracy: 0.1520 - val_loss: 2.2357 - val_accuracy: 0.0800\n",
            "Epoch 18/20\n",
            "32/32 [==============================] - 0s 3ms/step - loss: 2.1626 - accuracy: 0.1590 - val_loss: 2.2372 - val_accuracy: 0.0900\n",
            "Epoch 19/20\n",
            "32/32 [==============================] - 0s 3ms/step - loss: 2.1617 - accuracy: 0.1590 - val_loss: 2.2345 - val_accuracy: 0.0700\n",
            "Epoch 20/20\n",
            "32/32 [==============================] - 0s 3ms/step - loss: 2.1598 - accuracy: 0.1720 - val_loss: 2.2372 - val_accuracy: 0.0700\n",
            "7/7 [==============================] - 0s 4ms/step - loss: 2.2372 - accuracy: 0.0700\n",
            "Test accuracy: 0.07000000029802322\n"
          ]
        },
        {
          "output_type": "display_data",
          "data": {
            "text/plain": [
              "<Figure size 640x480 with 1 Axes>"
            ],
            "image/png": "[encoded data removed]"
          },
          "metadata": {}
        }
      ]
    },
    {
      "cell_type": "markdown",
      "source": [
        "Now we can try different neural network configurations and compare the results."
      ],
      "metadata": {
        "id": "1IlUihxlTJJ1"
      }
    },
    {
      "cell_type": "code",
      "source": [
        "# A function for testing different configurations.\n",
        "def experiment(hidden_layers_list, hidden_units_list):\n",
        "    results = {}\n",
        "    for hidden_layers in hidden_layers_list:\n",
        "        for hidden_units in hidden_units_list:\n",
        "            model = create_model(hidden_layers, hidden_units)\n",
        "            model.fit(X_train, y_train, epochs=20, verbose=0)\n",
        "            test_loss, test_acc = model.evaluate(X_test, y_test, verbose=0)\n",
        "            results[(hidden_layers, hidden_units)] = test_acc\n",
        "            print(f\"Layers: {hidden_layers}, Units: {hidden_units}, Test Accuracy: {test_acc}\")\n",
        "    return results\n",
        "\n",
        "hidden_layers_list = [1, 2, 3]\n",
        "hidden_units_list = [32, 64, 128]\n",
        "results = experiment(hidden_layers_list, hidden_units_list)"
      ],
      "metadata": {
        "colab": {
          "base_uri": "https://localhost:8080/"
        },
        "id": "DG6WP1HKTI1t",
        "outputId": "0eb12fbb-fefc-4255-81fa-ad23bb6ee3c8"
      },
      "execution_count": null,
      "outputs": [
        {
          "output_type": "stream",
          "name": "stdout",
          "text": [
            "Layers: 1, Units: 32, Test Accuracy: 0.10999999940395355\n",
            "Layers: 1, Units: 64, Test Accuracy: 0.12999999523162842\n",
            "Layers: 1, Units: 128, Test Accuracy: 0.0949999988079071\n",
            "Layers: 2, Units: 32, Test Accuracy: 0.10499999672174454\n",
            "Layers: 2, Units: 64, Test Accuracy: 0.09000000357627869\n",
            "Layers: 2, Units: 128, Test Accuracy: 0.07500000298023224\n",
            "Layers: 3, Units: 32, Test Accuracy: 0.10999999940395355\n",
            "Layers: 3, Units: 64, Test Accuracy: 0.11500000208616257\n",
            "Layers: 3, Units: 128, Test Accuracy: 0.06499999761581421\n"
          ]
        }
      ]
    },
    {
      "cell_type": "markdown",
      "source": [
        "Conclusions\n",
        "- Changing the number of hidden layers and neurons affects the performance of the model.\n",
        "- Increasing the number of layers and neurons can improve accuracy, but also increases training time and the risk of overtraining.\n",
        "- The best configuration depends on the specific task and amount of data."
      ],
      "metadata": {
        "id": "7RTAvv-uTUx5"
      }
    }
  ]
}