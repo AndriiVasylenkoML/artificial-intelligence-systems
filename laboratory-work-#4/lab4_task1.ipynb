{
  "nbformat": 4,
  "nbformat_minor": 0,
  "metadata": {
    "colab": {
      "provenance": []
    },
    "kernelspec": {
      "name": "python3",
      "display_name": "Python 3"
    },
    "language_info": {
      "name": "python"
    }
  },
  "cells": [
    {
      "cell_type": "markdown",
      "source": [
        "# Neural Network for Vehicle Control\n",
        "This notebook models a neural network for controlling a vehicle, as described in the theoretical section of the lab work."
      ],
      "metadata": {
        "id": "-LZyzMZ4ICHt"
      }
    },
    {
      "cell_type": "markdown",
      "source": [
        "## Step 1: Set Up the Environment and Import Necessary Libraries"
      ],
      "metadata": {
        "id": "FxDeU0JIIF-L"
      }
    },
    {
      "cell_type": "code",
      "execution_count": null,
      "metadata": {
        "id": "-XW_YJh0G4EU"
      },
      "outputs": [],
      "source": [
        "import numpy as np\n",
        "import tensorflow as tf\n",
        "from tensorflow.keras.models import Sequential\n",
        "from tensorflow.keras.layers import Dense\n",
        "from sklearn.model_selection import train_test_split\n",
        "import matplotlib.pyplot as plt"
      ]
    },
    {
      "cell_type": "markdown",
      "source": [
        "## Step 2: Create Training and Testing Datasets\n",
        "We use the data from the provided CSV."
      ],
      "metadata": {
        "id": "P2MlrpdfILGr"
      }
    },
    {
      "cell_type": "code",
      "source": [
        "data = np.array([\n",
        "    [1.0, 1.0, 0.5, 0.6, 0.3],\n",
        "    [0.0, 0.9, 0.8, 0.4, 0.5],\n",
        "    [0.3, 0.3, 1.0, 0.5, 0.9],\n",
        "    [0.1, 0.8, 0.2, 0.2, 0.1],\n",
        "    [0.5, 0.6, 0.3, 0.7, 0.4],\n",
        "    [0.7, 0.1, 0.9, 0.9, 0.2],\n",
        "    [0.9, 0.5, 0.4, 0.3, 0.8],\n",
        "    [0.2, 0.4, 0.6, 0.1, 0.0],\n",
        "    [0.4, 0.7, 0.1, 0.8, 0.6],\n",
        "    [0.6, 0.2, 0.7, 0.5, 0.7],\n",
        "    [0.8, 0.3, 0.5, 0.6, 0.9],\n",
        "    [0.5, 0.0, 0.3, 0.3, 0.5],\n",
        "    [0.1, 0.9, 0.4, 0.4, 0.2],\n",
        "    [0.3, 0.6, 0.2, 0.7, 0.3],\n",
        "    [0.2, 0.8, 0.9, 0.9, 0.1],\n",
        "    [1.0, 0.5, 0.0, 0.2, 0.0]\n",
        "])\n",
        "\n",
        "X = data[:, :3]\n",
        "y = data[:, 3:]\n",
        "\n",
        "# Split the data into training and testing sets\n",
        "X_train, X_test, y_train, y_test = train_test_split(X, y, test_size=0.2, random_state=42)\n"
      ],
      "metadata": {
        "id": "gF-FT-m5IRla"
      },
      "execution_count": null,
      "outputs": []
    },
    {
      "cell_type": "markdown",
      "source": [
        "## Step 3: Define the Neural Network Architecture\n",
        "We create a function to define the neural network model with customizable hidden layers and neurons.\n"
      ],
      "metadata": {
        "id": "xQVH8pL1Ib5X"
      }
    },
    {
      "cell_type": "code",
      "source": [
        "def create_model(hidden_layers, neurons_per_layer):\n",
        "    model = Sequential()\n",
        "    model.add(Dense(8, input_dim=3, activation='relu'))  # Input layer\n",
        "\n",
        "    for _ in range(hidden_layers):\n",
        "        model.add(Dense(neurons_per_layer, activation='relu'))  # Hidden layers\n",
        "\n",
        "    model.add(Dense(2, activation='linear'))  # Output layer\n",
        "    model.compile(optimizer='adam', loss='mse', metrics=['mae'])\n",
        "    return model\n"
      ],
      "metadata": {
        "id": "LbnLspF9Id6J"
      },
      "execution_count": null,
      "outputs": []
    },
    {
      "cell_type": "markdown",
      "source": [
        "## Step 4: Train the Neural Network\n",
        "We train the model on the training data."
      ],
      "metadata": {
        "id": "Hjdkyih0Ihk8"
      }
    },
    {
      "cell_type": "code",
      "source": [
        "hidden_layers = 2\n",
        "neurons_per_layer = 8\n",
        "model = create_model(hidden_layers, neurons_per_layer)\n",
        "\n",
        "history = model.fit(X_train, y_train, epochs=100, validation_split=0.2, verbose=0)\n"
      ],
      "metadata": {
        "id": "NSIbIYdZIhOF"
      },
      "execution_count": null,
      "outputs": []
    },
    {
      "cell_type": "markdown",
      "source": [
        "## Step 5: Evaluate the Neural Network Performance\n",
        "We evaluate the model on the test data to determine its performance.\n"
      ],
      "metadata": {
        "id": "5WU5mn4HIqJ0"
      }
    },
    {
      "cell_type": "code",
      "source": [
        "loss, mae = model.evaluate(X_test, y_test, verbose=0)\n",
        "print(f'Test Loss: {loss}, Test MAE: {mae}')\n"
      ],
      "metadata": {
        "colab": {
          "base_uri": "https://localhost:8080/"
        },
        "id": "kFRrmimDIp4h",
        "outputId": "814e859c-6a12-4b95-d424-651d299af1eb"
      },
      "execution_count": null,
      "outputs": [
        {
          "output_type": "stream",
          "name": "stdout",
          "text": [
            "Test Loss: 0.2692689001560211, Test MAE: 0.4747565984725952\n"
          ]
        }
      ]
    },
    {
      "cell_type": "markdown",
      "source": [
        "## Step 6: Experiment with Different Architectures\n",
        "We experiment with different numbers of hidden layers and neurons to observe their impact on performance.\n"
      ],
      "metadata": {
        "id": "Wy-f5MjCIxv_"
      }
    },
    {
      "cell_type": "code",
      "source": [
        "hidden_layers_list = [1, 2, 3]\n",
        "neurons_list = [4, 8, 16]\n",
        "\n",
        "results = []\n",
        "\n",
        "for hidden_layers in hidden_layers_list:\n",
        "    for neurons in neurons_list:\n",
        "        model = create_model(hidden_layers, neurons)\n",
        "        history = model.fit(X_train, y_train, epochs=100, validation_split=0.2, verbose=0)\n",
        "        loss, mae = model.evaluate(X_test, y_test, verbose=0)\n",
        "        results.append((hidden_layers, neurons, loss, mae))\n",
        "\n",
        "for result in results:\n",
        "    print(f'Hidden Layers: {result[0]}, Neurons: {result[1]}, Test Loss: {result[2]}, Test MAE: {result[3]}')\n"
      ],
      "metadata": {
        "colab": {
          "base_uri": "https://localhost:8080/"
        },
        "id": "DCwY33bFIvIU",
        "outputId": "c24d8621-5f8b-442b-8636-a9087ba7ec68"
      },
      "execution_count": null,
      "outputs": [
        {
          "output_type": "stream",
          "name": "stdout",
          "text": [
            "Hidden Layers: 1, Neurons: 4, Test Loss: 0.2374657392501831, Test MAE: 0.4051043391227722\n",
            "Hidden Layers: 1, Neurons: 8, Test Loss: 0.15182363986968994, Test MAE: 0.3088262677192688\n",
            "Hidden Layers: 1, Neurons: 16, Test Loss: 0.11373110115528107, Test MAE: 0.2825774550437927\n",
            "Hidden Layers: 2, Neurons: 4, Test Loss: 0.2583034634590149, Test MAE: 0.42377251386642456\n",
            "Hidden Layers: 2, Neurons: 8, Test Loss: 0.1253489851951599, Test MAE: 0.2998247742652893\n",
            "Hidden Layers: 2, Neurons: 16, Test Loss: 0.1486697494983673, Test MAE: 0.33633846044540405\n",
            "Hidden Layers: 3, Neurons: 4, Test Loss: 0.24037691950798035, Test MAE: 0.38415345549583435\n",
            "Hidden Layers: 3, Neurons: 8, Test Loss: 0.10581642389297485, Test MAE: 0.28066274523735046\n",
            "Hidden Layers: 3, Neurons: 16, Test Loss: 0.10610848665237427, Test MAE: 0.2817058563232422\n"
          ]
        }
      ]
    },
    {
      "cell_type": "markdown",
      "source": [
        "## Step 7: Plot Training and Validation Loss\n",
        "We plot the training and validation loss to visualize the training process.\n"
      ],
      "metadata": {
        "id": "Za3Uou9-I5r1"
      }
    },
    {
      "cell_type": "code",
      "source": [
        "plt.plot(history.history['loss'], label='Training Loss')\n",
        "plt.plot(history.history['val_loss'], label='Validation Loss')\n",
        "plt.xlabel('Epochs')\n",
        "plt.ylabel('Loss')\n",
        "plt.legend()\n",
        "plt.show()\n"
      ],
      "metadata": {
        "colab": {
          "base_uri": "https://localhost:8080/",
          "height": 449
        },
        "id": "uu5P7ICQI6dX",
        "outputId": "7a79fc14-2e7c-4353-8970-51ac6fca4ec8"
      },
      "execution_count": null,
      "outputs": [
        {
          "output_type": "display_data",
          "data": {
            "text/plain": [
              "<Figure size 640x480 with 1 Axes>"
            ],
            "image/png": "[encoded data removed]"
          },
          "metadata": {}
        }
      ]
    },
    {
      "cell_type": "markdown",
      "source": [
        "## Conclusions\n",
        "- The number of hidden layers and neurons affects the performance of the neural network.\n",
        "- More hidden layers and neurons can improve accuracy but may also increase training time.\n",
        "- It's important to find a balance between model complexity and computational efficiency.\n"
      ],
      "metadata": {
        "id": "ISlSn0LWJArc"
      }
    }
  ]
}