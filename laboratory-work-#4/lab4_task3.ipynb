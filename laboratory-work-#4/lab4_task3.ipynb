{
  "nbformat": 4,
  "nbformat_minor": 0,
  "metadata": {
    "colab": {
      "provenance": []
    },
    "kernelspec": {
      "name": "python3",
      "display_name": "Python 3"
    },
    "language_info": {
      "name": "python"
    }
  },
  "cells": [
    {
      "cell_type": "markdown",
      "source": [
        "# Neural Network for Vehicle Control\n",
        "This notebook models a neural network for controlling a vehicle, as described in the theoretical section of the lab work.\n"
      ],
      "metadata": {
        "id": "jkBHixHJatZe"
      }
    },
    {
      "cell_type": "markdown",
      "source": [
        "## Step 1: Set Up the Environment and Import Necessary Libraries\n"
      ],
      "metadata": {
        "id": "rTJgjGilawWc"
      }
    },
    {
      "cell_type": "code",
      "execution_count": null,
      "metadata": {
        "id": "I1h0r8KdaRmm"
      },
      "outputs": [],
      "source": [
        "import numpy as np\n",
        "import tensorflow as tf\n",
        "from tensorflow.keras.models import Sequential\n",
        "from tensorflow.keras.layers import Dense\n",
        "from sklearn.model_selection import train_test_split\n",
        "import matplotlib.pyplot as plt\n"
      ]
    },
    {
      "cell_type": "markdown",
      "source": [
        "## Step 2: Create Training and Testing Datasets\n",
        "We use the data from the provided CSV.\n"
      ],
      "metadata": {
        "id": "GL6Qw8_PazqR"
      }
    },
    {
      "cell_type": "code",
      "source": [
        "data = np.array([\n",
        "    [1.0, 1.0, 0.5, 0.6, 0.3],\n",
        "    [0.0, 0.9, 0.8, 0.4, 0.5],\n",
        "    [0.3, 0.3, 1.0, 0.5, 0.9],\n",
        "    [0.1, 0.8, 0.2, 0.2, 0.1],\n",
        "    [0.5, 0.6, 0.3, 0.7, 0.4],\n",
        "    [0.7, 0.1, 0.9, 0.9, 0.2],\n",
        "    [0.9, 0.5, 0.4, 0.3, 0.8],\n",
        "    [0.2, 0.4, 0.6, 0.1, 0.0],\n",
        "    [0.4, 0.7, 0.1, 0.8, 0.6],\n",
        "    [0.6, 0.2, 0.7, 0.5, 0.7],\n",
        "    [0.8, 0.3, 0.5, 0.6, 0.9],\n",
        "    [0.5, 0.0, 0.3, 0.3, 0.5],\n",
        "    [0.1, 0.9, 0.4, 0.4, 0.2],\n",
        "    [0.3, 0.6, 0.2, 0.7, 0.3],\n",
        "    [0.2, 0.8, 0.9, 0.9, 0.1],\n",
        "    [1.0, 0.5, 0.0, 0.2, 0.0]\n",
        "])\n",
        "\n",
        "X = data[:, :3]\n",
        "y = data[:, 3:]\n",
        "\n",
        "# Split the data into training and testing sets\n",
        "X_train, X_test, y_train, y_test = train_test_split(X, y, test_size=0.2, random_state=42)\n"
      ],
      "metadata": {
        "id": "ziudkOxLaiyO"
      },
      "execution_count": null,
      "outputs": []
    },
    {
      "cell_type": "markdown",
      "source": [
        "## Step 3: Define the Neural Network Architecture\n",
        "We create a function to define the neural network model with customizable hidden layers and neurons.\n"
      ],
      "metadata": {
        "id": "ZAto09fna9OI"
      }
    },
    {
      "cell_type": "code",
      "source": [
        "def create_model(hidden_layers, neurons_per_layer):\n",
        "    model = Sequential()\n",
        "    model.add(Dense(8, input_dim=3, activation='relu'))  # Input layer\n",
        "\n",
        "    for _ in range(hidden_layers):\n",
        "        model.add(Dense(neurons_per_layer, activation='relu'))  # Hidden layers\n",
        "\n",
        "    model.add(Dense(2, activation='linear'))  # Output layer\n",
        "    model.compile(optimizer='adam', loss='mse', metrics=['mae'])\n",
        "    return model\n"
      ],
      "metadata": {
        "id": "fMzn6SU5a8QW"
      },
      "execution_count": null,
      "outputs": []
    },
    {
      "cell_type": "markdown",
      "source": [
        "## Step 4: Train the Neural Network\n",
        "We train the model on the training data.\n"
      ],
      "metadata": {
        "id": "ucdDS8I1bDk2"
      }
    },
    {
      "cell_type": "code",
      "source": [
        "hidden_layers = 2\n",
        "neurons_per_layer = 8\n",
        "model = create_model(hidden_layers, neurons_per_layer)\n",
        "\n",
        "history = model.fit(X_train, y_train, epochs=100, validation_split=0.2, verbose=0)\n"
      ],
      "metadata": {
        "id": "ctxV29-MbDG4"
      },
      "execution_count": null,
      "outputs": []
    },
    {
      "cell_type": "markdown",
      "source": [
        "## Step 5: Evaluate the Neural Network Performance\n",
        "We evaluate the model on the test data to determine its performance.\n"
      ],
      "metadata": {
        "id": "QI6seiPwbIBo"
      }
    },
    {
      "cell_type": "code",
      "source": [
        "loss, mae = model.evaluate(X_test, y_test, verbose=0)\n",
        "print(f'Test Loss: {loss}, Test MAE: {mae}')\n"
      ],
      "metadata": {
        "colab": {
          "base_uri": "https://localhost:8080/"
        },
        "id": "3lZmoXuibHRL",
        "outputId": "8761e071-6921-434d-9003-8231fdb6aeb7"
      },
      "execution_count": null,
      "outputs": [
        {
          "output_type": "stream",
          "name": "stdout",
          "text": [
            "Test Loss: 0.0659019723534584, Test MAE: 0.2015974521636963\n"
          ]
        }
      ]
    },
    {
      "cell_type": "markdown",
      "source": [
        "## Step 6: Experiment with Different Architectures\n",
        "We experiment with different numbers of hidden layers and neurons to observe their impact on performance.\n"
      ],
      "metadata": {
        "id": "3RJs0YylbLd1"
      }
    },
    {
      "cell_type": "code",
      "source": [
        "hidden_layers_list = [1, 2, 3]\n",
        "neurons_list = [4, 8, 16]\n",
        "\n",
        "results = []\n",
        "\n",
        "for hidden_layers in hidden_layers_list:\n",
        "    for neurons in neurons_list:\n",
        "        model = create_model(hidden_layers, neurons)\n",
        "        history = model.fit(X_train, y_train, epochs=100, validation_split=0.2, verbose=0)\n",
        "        loss, mae = model.evaluate(X_test, y_test, verbose=0)\n",
        "        results.append((hidden_layers, neurons, loss, mae))\n",
        "\n",
        "for result in results:\n",
        "    print(f'Hidden Layers: {result[0]}, Neurons: {result[1]}, Test Loss: {result[2]}, Test MAE: {result[3]}')\n"
      ],
      "metadata": {
        "colab": {
          "base_uri": "https://localhost:8080/"
        },
        "id": "IhWrR_15bNoh",
        "outputId": "20009374-5f93-4774-b506-68ddab8de2b7"
      },
      "execution_count": null,
      "outputs": [
        {
          "output_type": "stream",
          "name": "stdout",
          "text": [
            "Hidden Layers: 1, Neurons: 4, Test Loss: 0.137106254696846, Test MAE: 0.3099939227104187\n",
            "Hidden Layers: 1, Neurons: 8, Test Loss: 0.23310017585754395, Test MAE: 0.4165080487728119\n",
            "Hidden Layers: 1, Neurons: 16, Test Loss: 0.07700131833553314, Test MAE: 0.21318131685256958\n",
            "Hidden Layers: 2, Neurons: 4, Test Loss: 0.06400203704833984, Test MAE: 0.23684245347976685\n",
            "Hidden Layers: 2, Neurons: 8, Test Loss: 0.1696239560842514, Test MAE: 0.33767884969711304\n",
            "Hidden Layers: 2, Neurons: 16, Test Loss: 0.10864293575286865, Test MAE: 0.2863701581954956\n",
            "Hidden Layers: 3, Neurons: 4, Test Loss: 0.23155328631401062, Test MAE: 0.3912524878978729\n",
            "Hidden Layers: 3, Neurons: 8, Test Loss: 0.1335442066192627, Test MAE: 0.30712053179740906\n",
            "Hidden Layers: 3, Neurons: 16, Test Loss: 0.10497605055570602, Test MAE: 0.2684679329395294\n"
          ]
        }
      ]
    },
    {
      "cell_type": "markdown",
      "source": [
        "## Step 7: Plot Training and Validation Loss\n",
        "We plot the training and validation loss to visualize the training process.\n"
      ],
      "metadata": {
        "id": "pCgJ040pbZsZ"
      }
    },
    {
      "cell_type": "code",
      "source": [
        "plt.plot(history.history['loss'], label='Training Loss')\n",
        "plt.plot(history.history['val_loss'], label='Validation Loss')\n",
        "plt.xlabel('Epochs')\n",
        "plt.ylabel('Loss')\n",
        "plt.legend()\n",
        "plt.show()"
      ],
      "metadata": {
        "colab": {
          "base_uri": "https://localhost:8080/",
          "height": 449
        },
        "id": "hMi1lz0WbcKz",
        "outputId": "89ff1e89-1534-4f84-e78b-662d13e940f2"
      },
      "execution_count": null,
      "outputs": [
        {
          "output_type": "display_data",
          "data": {
            "text/plain": [
              "<Figure size 640x480 with 1 Axes>"
            ],
            "image/png": "[encoded data removed]"
          },
          "metadata": {}
        }
      ]
    },
    {
      "cell_type": "markdown",
      "source": [
        "## Conclusions\n",
        "- The number of hidden layers and neurons affects the performance of the neural network.\n",
        "- More hidden layers and neurons can improve accuracy but may also increase training time.\n",
        "- It's important to find a balance between model complexity and computational efficiency.\n"
      ],
      "metadata": {
        "id": "0CHFWK-HbfB4"
      }
    },
    {
      "cell_type": "code",
      "source": [],
      "metadata": {
        "id": "Lnlk8WEWbrBN"
      },
      "execution_count": null,
      "outputs": []
    }
  ]
}